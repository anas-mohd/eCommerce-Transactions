{
 "cells": [
  {
   "cell_type": "code",
   "execution_count": 1,
   "id": "edc2258b",
   "metadata": {},
   "outputs": [],
   "source": [
    "# Task 2: Lookalike Model for eCommerce Transactions Dataset\n",
    "\n",
    "# Importing necessary libraries\n",
    "import pandas as pd\n",
    "import numpy as np\n",
    "from sklearn.metrics.pairwise import cosine_similarity\n",
    "from sklearn.preprocessing import StandardScaler"
   ]
  },
  {
   "cell_type": "code",
   "execution_count": 2,
   "id": "ac6f455e",
   "metadata": {},
   "outputs": [],
   "source": [
    "# Load the datasets\n",
    "customers = pd.read_csv(\"Customers.csv\")\n",
    "products = pd.read_csv(\"Products.csv\")\n",
    "transactions = pd.read_csv(\"Transactions.csv\")"
   ]
  },
  {
   "cell_type": "code",
   "execution_count": 3,
   "id": "698bf450",
   "metadata": {},
   "outputs": [],
   "source": [
    "# Merge datasets to create a complete view\n",
    "merged_data = pd.merge(transactions, customers, on='CustomerID')\n",
    "merged_data = pd.merge(merged_data, products, on='ProductID')"
   ]
  },
  {
   "cell_type": "code",
   "execution_count": 4,
   "id": "ab824fdc",
   "metadata": {},
   "outputs": [],
   "source": [
    "# Feature Engineering: Create a customer-product matrix\n",
    "customer_product_matrix = merged_data.pivot_table(\n",
    "    index='CustomerID', \n",
    "    columns='ProductID', \n",
    "    values='Quantity', \n",
    "    aggfunc='sum', \n",
    "    fill_value=0\n",
    ")"
   ]
  },
  {
   "cell_type": "code",
   "execution_count": 5,
   "id": "1c8b85fd",
   "metadata": {},
   "outputs": [],
   "source": [
    "# Standardize the data\n",
    "scaler = StandardScaler()\n",
    "customer_product_matrix_scaled = scaler.fit_transform(customer_product_matrix)"
   ]
  },
  {
   "cell_type": "code",
   "execution_count": 6,
   "id": "cfcf5c5b",
   "metadata": {},
   "outputs": [],
   "source": [
    "# Compute Cosine Similarity\n",
    "similarity_matrix = cosine_similarity(customer_product_matrix_scaled)\n",
    "similarity_df = pd.DataFrame(similarity_matrix, \n",
    "                             index=customer_product_matrix.index, \n",
    "                             columns=customer_product_matrix.index)"
   ]
  },
  {
   "cell_type": "code",
   "execution_count": 7,
   "id": "a0003b59",
   "metadata": {},
   "outputs": [],
   "source": [
    "# Function to get top 3 similar customers\n",
    "def get_top_3_similar(customers_df, customer_id):\n",
    "    similar_customers = customers_df[customer_id].sort_values(ascending=False)[1:4]\n",
    "    return similar_customers"
   ]
  },
  {
   "cell_type": "code",
   "execution_count": 8,
   "id": "04962554",
   "metadata": {},
   "outputs": [],
   "source": [
    "# Generate Lookalike CSV for the first 20 customers\n",
    "lookalike_data = {}\n",
    "for customer_id in customers['CustomerID'][:20]:\n",
    "    similar_customers = get_top_3_similar(similarity_df, customer_id)\n",
    "    lookalike_data[customer_id] = list(zip(similar_customers.index, similar_customers.values))"
   ]
  },
  {
   "cell_type": "code",
   "execution_count": 9,
   "id": "8b1a9b6e",
   "metadata": {},
   "outputs": [],
   "source": [
    "# Save Lookalike Data\n",
    "lookalike_df = pd.DataFrame.from_dict(lookalike_data, orient='index', columns=['SimilarCustomer1', 'SimilarCustomer2', 'SimilarCustomer3'])\n",
    "lookalike_df.to_csv(\"Lookalike.csv\", index_label=\"CustomerID\")"
   ]
  },
  {
   "cell_type": "code",
   "execution_count": 10,
   "id": "936be3ea",
   "metadata": {},
   "outputs": [
    {
     "name": "stdout",
     "output_type": "stream",
     "text": [
      "\n",
      "Sample Lookalike Data:\n",
      "                   SimilarCustomer1              SimilarCustomer2  \\\n",
      "C0001  (C0194, 0.40492753118932323)   (C0104, 0.3740015051203954)   \n",
      "C0002  (C0030, 0.40461685378594076)  (C0091, 0.38377803020909534)   \n",
      "C0003   (C0181, 0.4775717980039305)  (C0134, 0.47101615387800955)   \n",
      "C0004   (C0070, 0.3519014889798192)   (C0175, 0.3160978979266089)   \n",
      "C0005  (C0096, 0.48745613929263704)  (C0023, 0.47025182492905515)   \n",
      "\n",
      "                   SimilarCustomer3  \n",
      "C0001  (C0020, 0.36660865634533374)  \n",
      "C0002  (C0071, 0.32015798105808685)  \n",
      "C0003   (C0144, 0.4237999071645031)  \n",
      "C0004  (C0132, 0.27959855424498353)  \n",
      "C0005   (C0055, 0.3820996241448556)  \n"
     ]
    }
   ],
   "source": [
    "# Display a sample of the lookalike data\n",
    "print(\"\\nSample Lookalike Data:\")\n",
    "print(lookalike_df.head())"
   ]
  },
  {
   "cell_type": "code",
   "execution_count": null,
   "id": "ac94923f",
   "metadata": {},
   "outputs": [],
   "source": []
  }
 ],
 "metadata": {
  "kernelspec": {
   "display_name": "Python 3 (ipykernel)",
   "language": "python",
   "name": "python3"
  },
  "language_info": {
   "codemirror_mode": {
    "name": "ipython",
    "version": 3
   },
   "file_extension": ".py",
   "mimetype": "text/x-python",
   "name": "python",
   "nbconvert_exporter": "python",
   "pygments_lexer": "ipython3",
   "version": "3.11.7"
  }
 },
 "nbformat": 4,
 "nbformat_minor": 5
}
